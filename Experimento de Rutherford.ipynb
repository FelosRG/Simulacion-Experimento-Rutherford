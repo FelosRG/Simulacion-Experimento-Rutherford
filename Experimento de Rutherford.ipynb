{
 "cells": [
  {
   "cell_type": "markdown",
   "metadata": {},
   "source": [
    "# Experimento de Rutherford"
   ]
  },
  {
   "cell_type": "code",
   "execution_count": 1,
   "metadata": {},
   "outputs": [],
   "source": [
    "from ExperimentoRutherford import ExperimentoNumerico\n",
    "\n",
    "import matplotlib.pyplot as plt\n",
    "import multiprocessing\n",
    "import numpy as np\n",
    "import time\n",
    "import math"
   ]
  },
  {
   "cell_type": "markdown",
   "metadata": {},
   "source": [
    "## Parámetros de la función ExperimentoNumerico"
   ]
  },
  {
   "cell_type": "markdown",
   "metadata": {},
   "source": [
    "<b>N</b> <br>\n",
    "Número de partículas a simular en el experimento.\n",
    "\n",
    "<b>cpus(Parametro opcional)</b> <br>\n",
    "Número de nucleos que se usará para el computo. <br>\n",
    "(Default cpus=2)\n",
    "\n",
    "<b>tipo_cristal (Parametro opcional)</b><br>\n",
    "Tipo de cristal cúbico que se usará, disponibles \"pc\",\"bcc\",\"fcc\"<br>\n",
    "\"pc\" : primitive cube <br>\n",
    "\"bcc\": body centered cube <br>\n",
    "\"fcc\": face centerd cube <br>\n",
    "Aviso : Por el momento solo se tienen buenos resultados con \"fcc\" <br>\n",
    "(Default tipo_cristal=\"fcc\") <br>\n",
    "\n",
    "<b>z_a (Parametro opcional)</b>         \n",
    "Número atómico de elemento que conforman el blanco.<br>\n",
    "La opción de default es para el oro. <br> \n",
    "(Default: z_a = 79) <br>\n",
    "\n",
    "<b>num_laminas (Parametro opcional)</b><br>\n",
    "Número de láminas que compone al blanco. Cada lámina tiene 200 átomos de espesor. <br>\n",
    "(Default: num_laminas=2)\n",
    "\n",
    "<b> atom_radius (Parametro opcional)</b><br>\n",
    "Radio átomico del elemento que compone las laminas.<bt>\n",
    "El valor por default corresponde al del oro.<br>\n",
    "(Dafault: atom_radius = 1.44e-10)<br>\n",
    "    \n",
    "<b>diámetro_celda</b><br>\n",
    "Díametro de la celda unitaria.<br>\n",
    "El valor por default corresponde al del oro.<br>\n",
    "(Default:diámetro_celda4.07e-10)<br>\n",
    "\n",
    "<b>velocidad_inicial</b><br>\n",
    "Velocidad inicial de las partículas alfa.<br>\n",
    "(Default:velocidad_inicial=1.57e7)<br>\n",
    "\n",
    "<b>max_deslocacion</b><br>\n",
    "Añade aleatoridad a las posiciones de los átomos en la red cristalina.<br>Un valor mayor corresponde a la posibilidad de que el núcleo esté más lejos de su posición predeterminada. Se recomienda un valor de 0.5. <br>\n",
    "(Default:max_deslocacion= 0.5) \n"
   ]
  },
  {
   "cell_type": "markdown",
   "metadata": {},
   "source": [
    "## Disperción con distintas cantidades de laminas de oro"
   ]
  },
  {
   "cell_type": "code",
   "execution_count": null,
   "metadata": {},
   "outputs": [
    {
     "name": "stdout",
     "output_type": "stream",
     "text": [
      "Aviso\n",
      "Tiempo aproximado  de los experimentos entre 5 a 15 minutos dependiendo de la maquina y los cpus ocupados.\n",
      "\n",
      "Iniciando experimento 1 ...\n",
      "Experimento 1 tardo 1.19 s en completarse\n",
      "Iniciando experimento 2 ...\n",
      "Experimento 2 tardo 2.47 s en completarse\n",
      "Iniciando experimento 3 ...\n",
      "Experimento 3 tardo 3.79 s en completarse\n",
      "Iniciando experimento 4 ...\n",
      "Experimento 4 tardo 9.03 s en completarse\n",
      "Iniciando experimento 5 ...\n",
      "Experimento 5 tardo 49.54 s en completarse\n",
      "Iniciando experimento 6 ...\n",
      "Experimento 6 tardo 78.71 s en completarse\n",
      "Iniciando experimento 7 ...\n"
     ]
    }
   ],
   "source": [
    "print(\"Aviso\\nTiempo aproximado  de los experimentos entre 5 a 15 minutos dependiendo de la maquina y los cpus ocupados.\\n\")\n",
    "\n",
    "cpus            = 6\n",
    "max_deslocacion = 0.38\n",
    "\n",
    "experimento_laminas = [0.2,0.5,0.8,2,12,20,40]\n",
    "\n",
    "num_experimento = 0\n",
    "resultados      = []\n",
    "angulos         = []\n",
    "\n",
    "for num_laminas in experimento_laminas:\n",
    "    num_experimento += 1\n",
    "    print(f\"Iniciando experimento {num_experimento} ...\")\n",
    "    inicio = time.time()\n",
    "    output = ExperimentoNumerico(N=30_000,\n",
    "                                 tipo_cristal=\"fcc\",\n",
    "                                 cpus=cpus,\n",
    "                                 num_laminas=num_laminas,\n",
    "                                 max_deslocacion = max_deslocacion)\n",
    "    resultados.append(output[\"datos\"])\n",
    "    x = output[\"datos\"][:,0]\n",
    "    y = output[\"datos\"][:,1]\n",
    "    z = output[\"datos\"][:,2]\n",
    "    pos      = output[\"datos\"][:,0:3]\n",
    "    pp       = np.sum(pos*np.array([0,1,0]),axis=1)\n",
    "    angulos.append(np.arccos(pp)*180 / math.pi)\n",
    "    final   = time.time()\n",
    "    tiempo   = round(final-inicio,2)\n",
    "    print(f\"Experimento {num_experimento} tardo {tiempo} s en completarse\")\n",
    "\n",
    "print(\"\\nCalculo numérico terminado !\")"
   ]
  },
  {
   "cell_type": "code",
   "execution_count": null,
   "metadata": {},
   "outputs": [],
   "source": [
    "# GRAFICA 1 : Histograma muy pocas láminas.\n",
    "\n",
    "graficar_experimento = [0,1,2]\n",
    "lista_max_ang        = []\n",
    "for num_experimento in graficar_experimento:\n",
    "    num_laminas = experimento_laminas[num_experimento]\n",
    "    n,bins,_ = plt.hist(angulos[num_experimento],\n",
    "                        bins=60,\n",
    "                        density=True,\n",
    "                        range=(0,2),\n",
    "                        alpha=0.5,\n",
    "                        label=f\"{num_laminas} laminas\")\n",
    "    index   = np.argmax(n)\n",
    "    max_ang = bins[index]\n",
    "    lista_max_ang.append(max_ang)\n",
    "\n",
    "plt.title(\"Histograma de Probabilidad de Ángulos de Dispersión.\")\n",
    "plt.xlabel(\"Ángulo de desviación\")\n",
    "plt.ylabel(\"Densidad de probabilidad\")\n",
    "plt.legend()"
   ]
  },
  {
   "cell_type": "code",
   "execution_count": null,
   "metadata": {},
   "outputs": [],
   "source": [
    "# GRAFICA 2 : Histograma muchas láminas.\n",
    "\n",
    "graficar_experimento = [3,4,5,6]\n",
    "for num_experimento in graficar_experimento:\n",
    "    num_laminas = experimento_laminas[num_experimento]\n",
    "    n,bins,_ = plt.hist(angulos[num_experimento],\n",
    "                        bins=60,\n",
    "                        density=True,\n",
    "                        range=(0,5),\n",
    "                        alpha=0.5,\n",
    "                        label=f\"{num_laminas} laminas\")\n",
    "    index   = np.argmax(n)\n",
    "    max_ang = bins[index]\n",
    "    lista_max_ang.append(max_ang)\n",
    "\n",
    "plt.title(\"Histograma de Probabilidad de Ángulos de Dispersión.\")\n",
    "plt.xlabel(\"Ángulo de desviación\")\n",
    "plt.ylabel(\"Densidad de probabilidad\")\n",
    "plt.legend()"
   ]
  },
  {
   "cell_type": "code",
   "execution_count": null,
   "metadata": {},
   "outputs": [],
   "source": [
    "# GRAFICA 3 : GRAFICA ÁNGULOS MÁS PROBABLES.\n",
    "\n",
    "plt.plot(experimento_laminas,lista_max_ang,\".\",c=\"firebrick\",markersize=15)\n",
    "plt.xlabel(\"Número de placas de oro\")\n",
    "plt.ylabel(\"Ángulo de dispersión más probable.\")\n"
   ]
  }
 ],
 "metadata": {
  "kernelspec": {
   "display_name": "Python 3",
   "language": "python",
   "name": "python3"
  },
  "language_info": {
   "codemirror_mode": {
    "name": "ipython",
    "version": 3
   },
   "file_extension": ".py",
   "mimetype": "text/x-python",
   "name": "python",
   "nbconvert_exporter": "python",
   "pygments_lexer": "ipython3",
   "version": "3.8.3"
  }
 },
 "nbformat": 4,
 "nbformat_minor": 4
}
