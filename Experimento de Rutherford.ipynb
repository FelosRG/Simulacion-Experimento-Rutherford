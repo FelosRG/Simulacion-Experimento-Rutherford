{
 "cells": [
  {
   "cell_type": "code",
   "execution_count": 5,
   "metadata": {},
   "outputs": [],
   "source": [
    "import ExperimentoRutherford\n",
    "import multiprocessing\n",
    "import numpy as np\n",
    "import time\n",
    "import math"
   ]
  },
  {
   "cell_type": "code",
   "execution_count": 6,
   "metadata": {
    "scrolled": true
   },
   "outputs": [],
   "source": [
    "def ExperimentoNumérico(N,\n",
    "                        cpus         = 2  ,\n",
    "                        tipo_cristal =\"fcc\",\n",
    "                        z_a          = 79 ,\n",
    "                        num_laminas  = 1  ,\n",
    "                        atom_radius  = 1.44e-10,\n",
    "                        diametro_celda = 4.07e-10,\n",
    "                        vel_inicial    = 1.57e7,\n",
    "                        max_deslocacion= 0.4):\n",
    "    \n",
    "    # Hacemos parámetros compatibles.\n",
    "    if tipo_cristal == \"pc\":\n",
    "        categoria = 1\n",
    "    elif tipo_cristal == \"bcc\":\n",
    "        categoria = 2\n",
    "    elif tipo_cristal == \"fcc\":\n",
    "        categoria = 3\n",
    "    else:\n",
    "        raise ValueError(\"Los tipos de cristal disponibles son \\\"bc\\\",\\\"bcc\\\" y \\\"fcc\\\"\")\n",
    "        \n",
    "    # Repartimos el trabajo entre las cpus.\n",
    "    tamaño_rebanada = math.floor(N/cpus)\n",
    "    tamaño_pilon    = N%cpus\n",
    "    \n",
    "    processes = []\n",
    "for i in range(cpus):\n",
    "    process = multiprocessing.Process(target=DoSimulacion,args=(300,i))\n",
    "    processes.append(process)\n",
    "    process.start()\n",
    "for process in processes:\n",
    "    process.join()\n",
    "    \n",
    "    _ = ExperimentoRutherford.simulacion(n=300,\n",
    "                   categoria      =1  ,\n",
    "                   z_a            =79 ,\n",
    "                   num_laminas    =1  ,\n",
    "                   atom_radius    =1.44e-10,\n",
    "                   diametro_celda =4.07e-10,\n",
    "                   vel_inicial    =1.57e7,\n",
    "                   max_deslocacion=0.4,\n",
    "                   file_name      =f\"Resultado{i}.txt\",\n",
    "                   verbose        =False)\n",
    "                \n",
    "    return 0\n",
    "\n",
    "def MultiCPU(cpus,funcion):\n",
    "    \n",
    "cpus = 4\n",
    "processes = []\n",
    "for i in range(cpus):\n",
    "    process = multiprocessing.Process(target=DoSimulacion,args=(300,i))\n",
    "    processes.append(process)\n",
    "    process.start()\n",
    "for process in processes:\n",
    "    process.join()"
   ]
  },
  {
   "cell_type": "code",
   "execution_count": 7,
   "metadata": {},
   "outputs": [
    {
     "ename": "ValueError",
     "evalue": "Los tipos de cristal disponibles son \"bc\",\"bcc\" y \"fcc\"",
     "output_type": "error",
     "traceback": [
      "\u001b[0;31m---------------------------------------------------------------------------\u001b[0m",
      "\u001b[0;31mValueError\u001b[0m                                Traceback (most recent call last)",
      "\u001b[0;32m<ipython-input-7-bb4aec780580>\u001b[0m in \u001b[0;36m<module>\u001b[0;34m\u001b[0m\n\u001b[1;32m      1\u001b[0m \u001b[0;32mif\u001b[0m \u001b[0;32mTrue\u001b[0m\u001b[0;34m:\u001b[0m\u001b[0;34m\u001b[0m\u001b[0;34m\u001b[0m\u001b[0m\n\u001b[0;32m----> 2\u001b[0;31m     \u001b[0;32mraise\u001b[0m \u001b[0mValueError\u001b[0m\u001b[0;34m(\u001b[0m\u001b[0;34m\"Los tipos de cristal disponibles son \\\"bc\\\",\\\"bcc\\\" y \\\"fcc\\\"\"\u001b[0m\u001b[0;34m)\u001b[0m\u001b[0;34m\u001b[0m\u001b[0;34m\u001b[0m\u001b[0m\n\u001b[0m",
      "\u001b[0;31mValueError\u001b[0m: Los tipos de cristal disponibles son \"bc\",\"bcc\" y \"fcc\""
     ]
    }
   ],
   "source": []
  },
  {
   "cell_type": "code",
   "execution_count": null,
   "metadata": {},
   "outputs": [],
   "source": []
  }
 ],
 "metadata": {
  "kernelspec": {
   "display_name": "Python 3",
   "language": "python",
   "name": "python3"
  },
  "language_info": {
   "codemirror_mode": {
    "name": "ipython",
    "version": 3
   },
   "file_extension": ".py",
   "mimetype": "text/x-python",
   "name": "python",
   "nbconvert_exporter": "python",
   "pygments_lexer": "ipython3",
   "version": "3.8.3"
  }
 },
 "nbformat": 4,
 "nbformat_minor": 4
}
